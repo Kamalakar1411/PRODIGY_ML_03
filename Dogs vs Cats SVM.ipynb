{
 "cells": [
  {
   "cell_type": "code",
   "execution_count": 4,
   "id": "c594e835",
   "metadata": {},
   "outputs": [],
   "source": [
    "import os\n",
    "import cv2\n",
    "from cv2 import resize\n",
    "from skimage.feature import hog\n",
    "import numpy as np\n",
    "import pandas as pd\n",
    "from sklearn import svm\n",
    "from sklearn.model_selection import train_test_split\n",
    "import time"
   ]
  },
  {
   "cell_type": "code",
   "execution_count": 24,
   "id": "da9fb855",
   "metadata": {},
   "outputs": [],
   "source": [
    "def create_Frame():\n",
    "    train = pd.DataFrame({'file': os.listdir('train')})\n",
    "    return train.iloc[:10000, :]"
   ]
  },
  {
   "cell_type": "code",
   "execution_count": 6,
   "id": "8ae1e51c",
   "metadata": {},
   "outputs": [],
   "source": [
    "train = create_Frame()"
   ]
  },
  {
   "cell_type": "code",
   "execution_count": 7,
   "id": "7a3b7635",
   "metadata": {},
   "outputs": [],
   "source": [
    "Class = []\n",
    "features = []\n",
    "for i in os.listdir('train'):\n",
    "    if 'dog' in i:\n",
    "        Class.append(1)\n",
    "        # Extracting Dog features\n",
    "        resized_img = resize(cv2.imread('train/' + i), (128, 64))\n",
    "        fd, hog_image = hog(resized_img, orientations=9, pixels_per_cell=(8, 8),\n",
    "                             cells_per_block=(2, 2), visualize=True, channel_axis=-1)\n",
    "        features.append(fd)\n",
    "    if len(Class) > 4999:\n",
    "        break\n",
    "\n",
    "count = 0\n",
    "for i in os.listdir('train'):\n",
    "    if 'cat' in i:\n",
    "        Class.append(0)\n",
    "        # Extracting Cat features\n",
    "        resized_img = resize(cv2.imread('train/' + i), (128, 64))\n",
    "        fd, hog_image =  hog(resized_img, orientations=9, pixels_per_cell=(8, 8),\n",
    "                             cells_per_block=(2, 2), visualize=True, channel_axis=-1)\n",
    "        features.append(fd)\n",
    "    if len(Class) > 9999:\n",
    "        break"
   ]
  },
  {
   "cell_type": "code",
   "execution_count": 25,
   "id": "ce261f6d",
   "metadata": {},
   "outputs": [],
   "source": [
    "train['Class'] = Class\n",
    "pd.DataFrame(features).to_csv('Data_Features.csv', index=None)"
   ]
  },
  {
   "cell_type": "code",
   "execution_count": 26,
   "id": "3e204451",
   "metadata": {},
   "outputs": [],
   "source": [
    "x = pd.read_csv('Data_Features.csv')\n",
    "y = train['Class']"
   ]
  },
  {
   "cell_type": "code",
   "execution_count": 27,
   "id": "ae15a3cd",
   "metadata": {},
   "outputs": [],
   "source": [
    "Train, Test, Train_Y, Test_Y = train_test_split(x, y, test_size=0.20, random_state=1, shuffle=True)"
   ]
  },
  {
   "cell_type": "code",
   "execution_count": 28,
   "id": "c704a559",
   "metadata": {},
   "outputs": [],
   "source": [
    "C = .01  # SVM regularization parameter"
   ]
  },
  {
   "cell_type": "code",
   "execution_count": 29,
   "id": "5858d020",
   "metadata": {},
   "outputs": [
    {
     "name": "stdout",
     "output_type": "stream",
     "text": [
      "SVC Linear Fitting Time =  157.80226254463196\n",
      "acc =  0.739\n"
     ]
    }
   ],
   "source": [
    "start = time.time()\n",
    "svc = svm.SVC(kernel='linear', C=C).fit(Train, Train_Y)\n",
    "stop = time.time()\n",
    "Time = stop - start\n",
    "print('SVC Linear Fitting Time = ', Time)\n",
    "predictions = svc.predict(Test)\n",
    "accuracy = np.mean(predictions == Test_Y)\n",
    "print(\"acc = \", accuracy)"
   ]
  },
  {
   "cell_type": "code",
   "execution_count": 30,
   "id": "49501635",
   "metadata": {},
   "outputs": [
    {
     "name": "stdout",
     "output_type": "stream",
     "text": [
      "SVC Poly Fitting Time =  147.12267994880676\n",
      "acc =  0.739\n"
     ]
    }
   ],
   "source": [
    "start = time.time()\n",
    "poly_svc = svm.SVC(kernel='poly', degree=3, C=C).fit(Train, Train_Y)\n",
    "stop = time.time()\n",
    "Time = stop - start\n",
    "print('SVC Poly Fitting Time = ', Time)\n",
    "predictions = poly_svc.predict(Test)\n",
    "accuracy = np.mean(predictions == Test_Y)\n",
    "print(\"acc = \", accuracy)"
   ]
  },
  {
   "cell_type": "code",
   "execution_count": null,
   "id": "fc831813",
   "metadata": {},
   "outputs": [],
   "source": []
  }
 ],
 "metadata": {
  "kernelspec": {
   "display_name": "Python 3 (ipykernel)",
   "language": "python",
   "name": "python3"
  },
  "language_info": {
   "codemirror_mode": {
    "name": "ipython",
    "version": 3
   },
   "file_extension": ".py",
   "mimetype": "text/x-python",
   "name": "python",
   "nbconvert_exporter": "python",
   "pygments_lexer": "ipython3",
   "version": "3.11.5"
  }
 },
 "nbformat": 4,
 "nbformat_minor": 5
}
